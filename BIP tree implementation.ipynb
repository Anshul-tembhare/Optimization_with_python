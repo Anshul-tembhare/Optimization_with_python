{
 "cells": [
  {
   "cell_type": "code",
   "execution_count": 1,
   "metadata": {},
   "outputs": [],
   "source": [
    "#Defining a node and dummy node of BIP tree\n",
    "class Node():\n",
    "    def __init__ (self,weight=0,threshold = 0):\n",
    "        self.weight = weight\n",
    "        self.threshold = threshold\n",
    "        \n",
    "    def add(self,obj):\n",
    "        self.children.append(obj)\n",
    "        \n",
    "class DummyNode():\n",
    "    def __init__ (self,weight = 0 , threshold = 0):\n",
    "        self.weight = 1\n",
    "        self.threshold =1\n",
    "        \n",
    "    def add(self,obj):\n",
    "        self.children.append(obj)"
   ]
  },
  {
   "cell_type": "code",
   "execution_count": 2,
   "metadata": {},
   "outputs": [
    {
     "name": "stdout",
     "output_type": "stream",
     "text": [
      "4\n",
      "4\n"
     ]
    }
   ],
   "source": [
    "#Graph G : As used in the research paper\n",
    "\n",
    "A = Node(0)\n",
    "A.weight = 4\n",
    "print(A.weight)\n",
    "A.threshold = 2\n",
    "\n",
    "B = Node(1)\n",
    "B.weight = 30\n",
    "B.threshold = 3\n",
    "\n",
    "C = Node(2)\n",
    "C.weight = 20\n",
    "C.threshold = 2\n",
    "\n",
    "D = Node(3)\n",
    "D.weight = 15\n",
    "D.threshold = 2\n",
    "\n",
    "E = Node(4)\n",
    "E.weight = 5\n",
    "E.threshold = 1\n",
    "\n",
    "F = Node(5)\n",
    "F.weight = 6\n",
    "F.threshold = 1\n",
    "\n",
    "G = Node(6)\n",
    "G.weight = 7\n",
    "G.threshold = 1\n",
    "\n",
    "H = Node(7)\n",
    "H.weight = 8\n",
    "H.threshold = 1\n",
    "\n",
    "I= Node(8)\n",
    "I.weight = 9\n",
    "I.threshold = 1\n",
    "\n",
    "J = Node(9)\n",
    "J.weight = 10\n",
    "J.threshold = 1\n",
    "\n",
    "K = Node(10)\n",
    "K.weight = 11\n",
    "K.threshold = 1\n",
    "\n",
    "print(A.weight)\n",
    "\n",
    "G = {D : [A , B , C],\n",
    "    A : [E , F],\n",
    "    B : [G , H , I],\n",
    "    C : [J , K]}\n",
    "\n",
    "#edges = [(D,A),(D,B),(D,C),(A,E),(A,F),(B,G),(B,H),(B,I),(C,J),(C,K)]"
   ]
  },
  {
   "cell_type": "code",
   "execution_count": 3,
   "metadata": {},
   "outputs": [
    {
     "name": "stdout",
     "output_type": "stream",
     "text": [
      "{<__main__.Node object at 0x000002003835CC18>: [<__main__.Node object at 0x000002003835CB00>, <__main__.Node object at 0x000002003835CBE0>, <__main__.Node object at 0x000002003835CAC8>], <__main__.Node object at 0x000002003835CB00>: [<__main__.Node object at 0x000002003835CC50>, <__main__.Node object at 0x000002003835CC88>], <__main__.Node object at 0x000002003835CBE0>: [<__main__.Node object at 0x000002003835CCC0>, <__main__.Node object at 0x000002003835CCF8>, <__main__.Node object at 0x000002003835CD30>], <__main__.Node object at 0x000002003835CAC8>: [<__main__.Node object at 0x000002003835CD68>, <__main__.Node object at 0x000002003835CDA0>]}\n"
     ]
    }
   ],
   "source": [
    "print(G)"
   ]
  },
  {
   "cell_type": "code",
   "execution_count": 4,
   "metadata": {},
   "outputs": [
    {
     "name": "stdout",
     "output_type": "stream",
     "text": [
      "3\n"
     ]
    }
   ],
   "source": [
    "print(B.threshold)"
   ]
  },
  {
   "cell_type": "code",
   "execution_count": 5,
   "metadata": {},
   "outputs": [],
   "source": [
    "import array as arr"
   ]
  },
  {
   "cell_type": "code",
   "execution_count": 6,
   "metadata": {},
   "outputs": [
    {
     "name": "stdout",
     "output_type": "stream",
     "text": [
      "4\n"
     ]
    }
   ],
   "source": [
    "#Graph Gt as shown in paper\n",
    "\n",
    "A = Node(0)\n",
    "A.weight = 4\n",
    "A.threshold = 2\n",
    "\n",
    "B = Node(1)\n",
    "B.weight = 30\n",
    "B.threshold = 3\n",
    "\n",
    "C = Node(2)\n",
    "C.weight = 20\n",
    "C.threshold = 2\n",
    "\n",
    "D = Node(3)\n",
    "D.weight = 15\n",
    "D.threshold = 2\n",
    "\n",
    "E = Node(4)\n",
    "E.weight = 5\n",
    "E.threshold = 1\n",
    "print(A.weight)\n",
    "\n",
    "F = Node(5)\n",
    "F.weight = 6\n",
    "F.threshold = 1\n",
    "\n",
    "G = Node(6)\n",
    "G.weight = 7\n",
    "G.threshold = 1\n",
    "\n",
    "H = Node(7)\n",
    "H.weight = 8\n",
    "H.threshold = 1\n",
    "\n",
    "I= Node(8)\n",
    "I.weight = 9\n",
    "I.threshold = 1\n",
    "\n",
    "J = Node(9)\n",
    "J.weight = 10\n",
    "J.threshold = 1\n",
    "\n",
    "K = Node(10)\n",
    "K.weight = 11\n",
    "K.threshold = 1\n",
    "\n",
    "D0 = DummyNode(0)\n",
    "D1 = DummyNode(1)\n",
    "D2 = DummyNode(2)\n",
    "D3 = DummyNode(3)\n",
    "D4 = DummyNode(4)\n",
    "D5 = DummyNode(5)\n",
    "D6 = DummyNode(6)\n",
    "D7 = DummyNode(7)\n",
    "D8 = DummyNode(8)\n",
    "D9 = DummyNode(9)\n",
    "\n",
    "\n",
    "Gt = {D : [D0,D1,D2],\n",
    "    D0 : [A],\n",
    "    A: [D3,D4],\n",
    "     D3 : [E],\n",
    "     D4 : [F],\n",
    "     D1 : [B],\n",
    "     B : [D5,D6,D7],\n",
    "     D5 : [G],\n",
    "     D6 : [H],\n",
    "     D7 : [I],\n",
    "     C : [D8 , D9],\n",
    "     D8 : [J],\n",
    "     D9 : [K]}\n",
    "\n",
    "#edges = [(D,A),(D,B),(D,C),(A,E),(A,F),(B,G),(B,H),(B,I),(C,J),(C,K)]"
   ]
  },
  {
   "cell_type": "code",
   "execution_count": 7,
   "metadata": {
    "scrolled": true
   },
   "outputs": [
    {
     "name": "stdout",
     "output_type": "stream",
     "text": [
      "<__main__.Node object at 0x00000200383587F0>\n",
      "{<__main__.Node object at 0x00000200383586A0>: [<__main__.DummyNode object at 0x000002003835CD68>, <__main__.DummyNode object at 0x000002003835CDA0>, <__main__.DummyNode object at 0x000002003835CBE0>], <__main__.DummyNode object at 0x000002003835CD68>: [<__main__.Node object at 0x0000020038358630>], <__main__.Node object at 0x0000020038358630>: [<__main__.DummyNode object at 0x000002003835CC50>, <__main__.DummyNode object at 0x000002003835CC88>], <__main__.DummyNode object at 0x000002003835CC50>: [<__main__.Node object at 0x00000200383586D8>], <__main__.DummyNode object at 0x000002003835CC88>: [<__main__.Node object at 0x0000020038358748>], <__main__.DummyNode object at 0x000002003835CDA0>: [<__main__.Node object at 0x00000200383585F8>], <__main__.Node object at 0x00000200383585F8>: [<__main__.DummyNode object at 0x000002003835CB00>, <__main__.DummyNode object at 0x000002003835CC18>, <__main__.DummyNode object at 0x0000020038358828>], <__main__.DummyNode object at 0x000002003835CB00>: [<__main__.Node object at 0x00000200383587F0>], <__main__.DummyNode object at 0x000002003835CC18>: [<__main__.Node object at 0x000002003835CCC0>], <__main__.DummyNode object at 0x0000020038358828>: [<__main__.Node object at 0x000002003835CAC8>], <__main__.Node object at 0x0000020038358668>: [<__main__.DummyNode object at 0x0000020038358860>, <__main__.DummyNode object at 0x0000020038358898>], <__main__.DummyNode object at 0x0000020038358860>: [<__main__.Node object at 0x000002003835CCF8>], <__main__.DummyNode object at 0x0000020038358898>: [<__main__.Node object at 0x000002003835CD30>]}\n",
      "4\n"
     ]
    }
   ],
   "source": [
    "print(G)\n",
    "print(Gt)\n",
    "print(A.weight)"
   ]
  },
  {
   "cell_type": "code",
   "execution_count": 8,
   "metadata": {},
   "outputs": [
    {
     "name": "stdout",
     "output_type": "stream",
     "text": [
      "[['NULL', 'NULL', 'NULL', 'NULL', 'NULL', 'NULL', 'NULL', 'NULL', 'NULL', 'NULL', 'NULL', 1, 'NULL', 'NULL', 1, 1, 'NULL', 'NULL', 'NULL', 'NULL', 'NULL'], ['NULL', 'NULL', 'NULL', 'NULL', 'NULL', 'NULL', 'NULL', 'NULL', 'NULL', 'NULL', 'NULL', 'NULL', 1, 'NULL', 'NULL', 'NULL', 0, 0, 0, 'NULL', 'NULL'], ['NULL', 'NULL', 'NULL', 'NULL', 'NULL', 'NULL', 'NULL', 'NULL', 'NULL', 'NULL', 'NULL', 'NULL', 'NULL', 0, 'NULL', 'NULL', 'NULL', 'NULL', 'NULL', 0, 1], ['NULL', 'NULL', 'NULL', 'NULL', 'NULL', 'NULL', 'NULL', 'NULL', 'NULL', 'NULL', 'NULL', 0, 0, 1, 'NULL', 'NULL', 'NULL', 'NULL', 'NULL', 'NULL', 'NULL'], ['NULL', 'NULL', 'NULL', 'NULL', 'NULL', 'NULL', 'NULL', 'NULL', 'NULL', 'NULL', 'NULL', 'NULL', 'NULL', 'NULL', 0, 'NULL', 'NULL', 'NULL', 'NULL', 'NULL', 'NULL'], ['NULL', 'NULL', 'NULL', 'NULL', 'NULL', 'NULL', 'NULL', 'NULL', 'NULL', 'NULL', 'NULL', 'NULL', 'NULL', 'NULL', 'NULL', 0, 'NULL', 'NULL', 'NULL', 'NULL', 'NULL'], ['NULL', 'NULL', 'NULL', 'NULL', 'NULL', 'NULL', 'NULL', 'NULL', 'NULL', 'NULL', 'NULL', 'NULL', 'NULL', 'NULL', 'NULL', 'NULL', 1, 'NULL', 'NULL', 'NULL', 'NULL'], ['NULL', 'NULL', 'NULL', 'NULL', 'NULL', 'NULL', 'NULL', 'NULL', 'NULL', 'NULL', 'NULL', 'NULL', 'NULL', 'NULL', 'NULL', 'NULL', 'NULL', 1, 'NULL', 'NULL', 'NULL'], ['NULL', 'NULL', 'NULL', 'NULL', 'NULL', 'NULL', 'NULL', 'NULL', 'NULL', 'NULL', 'NULL', 'NULL', 'NULL', 'NULL', 'NULL', 'NULL', 'NULL', 'NULL', 1, 'NULL', 'NULL'], ['NULL', 'NULL', 'NULL', 'NULL', 'NULL', 'NULL', 'NULL', 'NULL', 'NULL', 'NULL', 'NULL', 'NULL', 'NULL', 'NULL', 'NULL', 'NULL', 'NULL', 'NULL', 'NULL', 1, 'NULL'], ['NULL', 'NULL', 'NULL', 'NULL', 'NULL', 'NULL', 'NULL', 'NULL', 'NULL', 'NULL', 'NULL', 'NULL', 'NULL', 'NULL', 'NULL', 'NULL', 'NULL', 'NULL', 'NULL', 'NULL', 0], [0, 'NULL', 'NULL', 1, 'NULL', 'NULL', 'NULL', 'NULL', 'NULL', 'NULL', 'NULL', 'NULL', 'NULL', 'NULL', 'NULL', 'NULL', 'NULL', 'NULL', 'NULL', 'NULL', 'NULL'], ['NULL', 0, 'NULL', 1, 'NULL', 'NULL', 'NULL', 'NULL', 'NULL', 'NULL', 'NULL', 'NULL', 'NULL', 'NULL', 'NULL', 'NULL', 'NULL', 'NULL', 'NULL', 'NULL', 'NULL'], ['NULL', 'NULL', 1, 0, 'NULL', 'NULL', 'NULL', 'NULL', 'NULL', 'NULL', 'NULL', 'NULL', 'NULL', 'NULL', 'NULL', 'NULL', 'NULL', 'NULL', 'NULL', 'NULL', 'NULL'], [0, 'NULL', 'NULL', 'NULL', 1, 'NULL', 'NULL', 'NULL', 'NULL', 'NULL', 'NULL', 'NULL', 'NULL', 'NULL', 'NULL', 'NULL', 'NULL', 'NULL', 'NULL', 'NULL', 'NULL'], [0, 'NULL', 'NULL', 'NULL', 'NULL', 1, 'NULL', 'NULL', 'NULL', 'NULL', 'NULL', 'NULL', 'NULL', 'NULL', 'NULL', 'NULL', 'NULL', 'NULL', 'NULL', 'NULL', 'NULL'], ['NULL', 1, 'NULL', 'NULL', 'NULL', 'NULL', 0, 'NULL', 'NULL', 'NULL', 'NULL', 'NULL', 'NULL', 'NULL', 'NULL', 'NULL', 'NULL', 'NULL', 'NULL', 'NULL', 'NULL'], ['NULL', 1, 'NULL', 'NULL', 'NULL', 'NULL', 'NULL', 0, 'NULL', 'NULL', 'NULL', 'NULL', 'NULL', 'NULL', 'NULL', 'NULL', 'NULL', 'NULL', 'NULL', 'NULL', 'NULL'], ['NULL', 1, 'NULL', 'NULL', 'NULL', 'NULL', 'NULL', 'NULL', 0, 'NULL', 'NULL', 'NULL', 'NULL', 'NULL', 'NULL', 'NULL', 'NULL', 'NULL', 'NULL', 'NULL', 'NULL'], ['NULL', 'NULL', 1, 'NULL', 'NULL', 'NULL', 'NULL', 'NULL', 'NULL', 0, 'NULL', 'NULL', 'NULL', 'NULL', 'NULL', 'NULL', 'NULL', 'NULL', 'NULL', 'NULL', 'NULL'], ['NULL', 'NULL', 0, 'NULL', 'NULL', 'NULL', 'NULL', 'NULL', 'NULL', 'NULL', 1, 'NULL', 'NULL', 'NULL', 'NULL', 'NULL', 'NULL', 'NULL', 'NULL', 'NULL', 'NULL']]\n"
     ]
    }
   ],
   "source": [
    "# Let A:0 B:1 C:2 and so on for this matrix also, D1:11 D2:12 D3:13 upto 20\n",
    "w, h = 21, 21;\n",
    "Y = [['NULL'for x in range(w)] for y in range(h)]  \n",
    "\n",
    "for i in range (14,16):\n",
    "    Y[0][i] = 1\n",
    "    Y[i][0] = 0\n",
    "    \n",
    "    if(i == 14):\n",
    "        Y[i][4] = 1\n",
    "        Y[4][i] = 0\n",
    "        \n",
    "    if(i==15):\n",
    "        Y[i][5] = 1\n",
    "        Y[5][i] = 0\n",
    "        \n",
    "for i in range (16,19):\n",
    "    Y[i][1] = 1\n",
    "    Y[1][i] = 0\n",
    "    \n",
    "    if(i==16):\n",
    "        Y[6][i] = 1\n",
    "        Y[i][6] = 0\n",
    "        \n",
    "    if(i==17):\n",
    "        Y[7][i] = 1\n",
    "        Y[i][7] = 0\n",
    "        \n",
    "    if(i==18):\n",
    "        Y[8][i] = 1\n",
    "        Y[i][8] = 0\n",
    "        \n",
    "Y[11][0] = 0\n",
    "Y[0][11] = 1\n",
    "Y[11][3] = 1\n",
    "Y[3][11] = 0\n",
    "Y[12][3] = 1\n",
    "Y[3][12] = 0\n",
    "Y[1][12] = 1\n",
    "Y[12][1] = 0\n",
    "Y[3][13] = 1\n",
    "Y[13][3] = 0\n",
    "Y[13][2] = 1\n",
    "Y[2][13] = 0\n",
    "Y[19][2] = 1\n",
    "Y[2][19] = 0\n",
    "Y[20][2] = 0\n",
    "Y[2][20] = 1\n",
    "Y[9][19] = 1\n",
    "Y[19][9] = 0\n",
    "Y[20][10] = 1\n",
    "Y[10][20] = 0\n",
    "\n",
    "print(Y)\n",
    "\n",
    "data = {}\n",
    "data['weights'] = [4,30,20,15,5,6,7,8,9,10,11]\n",
    "data['threshold'] = [2,3,2,2,1,1,1,1,1,1,1]\n",
    "data['num_vars'] = 11"
   ]
  },
  {
   "cell_type": "code",
   "execution_count": 9,
   "metadata": {},
   "outputs": [],
   "source": [
    "# List a represents a(ni) i.e. neighbours of a main node and b represents neighbours of a dummy node(acc.tp their indexes in Y)\n",
    "a = {}\n",
    "a = [\n",
    "    [11 , 14 , 15],\n",
    "    [12 , 16 , 17 , 18],\n",
    "    [13 , 19 , 20],\n",
    "    [11 , 12 , 13],\n",
    "    [14],\n",
    "    [15],\n",
    "    [16],\n",
    "    [17],\n",
    "    [18],\n",
    "    [19],\n",
    "    [20],\n",
    "]\n",
    "\n",
    "b = {}\n",
    "b = [\n",
    "    [1,3],\n",
    "    [1,3],\n",
    "    [2,3],\n",
    "    [4,0],\n",
    "    [5,0],\n",
    "    [6,1],\n",
    "    [7,1],\n",
    "    [8,1],\n",
    "    [9,2],\n",
    "    [10,2],\n",
    "]"
   ]
  },
  {
   "cell_type": "code",
   "execution_count": 10,
   "metadata": {},
   "outputs": [
    {
     "name": "stdout",
     "output_type": "stream",
     "text": [
      "Number of variables = 11\n"
     ]
    }
   ],
   "source": [
    "#Importing the optimization tools\n",
    "from __future__ import print_function\n",
    "from ortools.linear_solver import pywraplp\n",
    "\n",
    "solver = pywraplp.Solver('simple_mip_program', pywraplp.Solver.CBC_MIXED_INTEGER_PROGRAMMING)\n",
    "\n",
    "x = {}\n",
    "for j in range(data['num_vars']):\n",
    "    x[j] = solver.BoolVar('x[%i]' % j)\n",
    "print('Number of variables =', solver.NumVariables())"
   ]
  },
  {
   "cell_type": "code",
   "execution_count": 11,
   "metadata": {},
   "outputs": [],
   "source": [
    "d=0\n",
    "# In Python, you can also set the constraints as follows.\n",
    "# for i in range(data['num_constraints']):\n",
    "#  constraint_expr = \\\n",
    "# [data['constraint_coeffs'][i][j] * x[j] for j in range(data['num_vars'])]\n",
    "#  solver.Add(sum(constraint_expr) <= data['bounds'][i])"
   ]
  },
  {
   "cell_type": "code",
   "execution_count": 12,
   "metadata": {},
   "outputs": [],
   "source": [
    "# Constraint 1 : x[i]<=Y[i][d] for dummy nodes\n",
    "for i in range(0,11):\n",
    "    if(i==0 or i==2 or i==3):\n",
    "        for j in range (0,3):\n",
    "            d=a[i][j]\n",
    "            if ( Y[i][d]!='NULL'):\n",
    "                constraint = solver.Constraint(0, Y[i][d] )\n",
    "                constraint.SetCoefficient(x[i], 1)\n",
    "                \n",
    "    elif(i==1):\n",
    "        for j in range (0,4):\n",
    "            d=a[i][j]\n",
    "            if ( Y[i][d]!='NULL'):\n",
    "                constraint = solver.Constraint(0, Y[i][d] )\n",
    "                constraint.SetCoefficient(x[i], 1)\n",
    "                \n",
    "    elif(i==4,5,6,7,8,9,10):\n",
    "        for j in range (0,1):\n",
    "            d=a[i][j]\n",
    "            if ( Y[i][d]!='NULL'):\n",
    "                constraint = solver.Constraint(0, Y[i][d] )\n",
    "                constraint.SetCoefficient(x[i], 1)"
   ]
  },
  {
   "cell_type": "code",
   "execution_count": 13,
   "metadata": {},
   "outputs": [],
   "source": [
    "#Constraint 2 : Yid + Ydi = 1 \n",
    "for i in range(0,21):\n",
    "    for d in range (0,21):\n",
    "        if ( Y[i][d]!='NULL'):\n",
    "            solver.Add(Y[d][i] +Y[i][d] == 1)\n",
    "        '''constraint = solver.Constraint(1,1)\n",
    "            constraint.SetCoefficient((Y[d][i] + Y[i][d]) ,1)'''"
   ]
  },
  {
   "cell_type": "code",
   "execution_count": 14,
   "metadata": {
    "scrolled": true
   },
   "outputs": [],
   "source": [
    "#Constraint 3 : sum(Yid)>=1\n",
    "inf = solver.infinity()\n",
    "l1 = 0\n",
    "\n",
    "for  d in range (11,21):\n",
    "    for j in range (0,2):\n",
    "        i = b[d-11][j]\n",
    "        if(Y[i][d]!='NULL'):\n",
    "                l1 += Y[i][d]\n",
    "    solver.Add(l1 >= 1)\n",
    "    l1 = 0"
   ]
  },
  {
   "cell_type": "code",
   "execution_count": 15,
   "metadata": {},
   "outputs": [],
   "source": [
    "#Constraint 4 : sum(Ydi) + Gixi = Gi\n",
    "l2 = 0\n",
    "\n",
    "for i in range(0,11): \n",
    "    if (i==0 or i==2 or i==3):\n",
    "        for j in range (0,3):\n",
    "            d = a[i][j]\n",
    "            if ( Y[i][d]!='NULL'):\n",
    "                l2 += Y[d][i]\n",
    "        solver.Add ((Node(i).threshold*x[i] + l2 - Node(i).threshold) == 0)\n",
    "        #constraint = solver.Constraint((Node(i).threshold - l2) , (Node(i).threshold - l2))\n",
    "        #constraint.SetCoefficient(x[i], Node(i).threshold)\n",
    "        l2 = 0\n",
    "                \n",
    "    elif (i==1):\n",
    "        for j in range (0,4):\n",
    "            d = a[i][j]\n",
    "            if ( Y[i][d]!='NULL'):\n",
    "                l2 += Y[d][i]\n",
    "        solver.Add ((Node(i).threshold*x[i] + l2 - Node(i).threshold) == 0)\n",
    "        #constraint = solver.Constraint((Node(i).threshold - l2) , (Node(i).threshold - l2))\n",
    "        #constraint.SetCoefficient(x[i], Node(i).threshold)\n",
    "        l2 = 0\n",
    "                \n",
    "    elif (i==4,5,6,7,8,9,10):\n",
    "        for j in range (0,1):\n",
    "            d = a[i][j]\n",
    "            if ( Y[i][d]!='NULL'):\n",
    "                l2 += Y[d][i]\n",
    "        solver.Add ((Node(i).threshold*x[i] + l2 - Node(i).threshold) == 0)\n",
    "        #constraint = solver.Constraint((Node(i).threshold - l2) , (Node(i).threshold - l2))\n",
    "        #constraint.SetCoefficient(x[i], Node(i).threshold)\n",
    "        l2 = 0"
   ]
  },
  {
   "cell_type": "code",
   "execution_count": 16,
   "metadata": {},
   "outputs": [],
   "source": [
    "#Objective: Minimize(bixi)\n",
    "objective = solver.Objective()\n",
    "for j in range(data['num_vars']):\n",
    "    objective.SetCoefficient(x[j], Node(j).weight)\n",
    "\n",
    "objective.SetMinimization()"
   ]
  },
  {
   "cell_type": "code",
   "execution_count": 17,
   "metadata": {},
   "outputs": [],
   "source": [
    "status = solver.Solve()"
   ]
  },
  {
   "cell_type": "code",
   "execution_count": 18,
   "metadata": {},
   "outputs": [
    {
     "name": "stdout",
     "output_type": "stream",
     "text": [
      "The problem does not have an optimal solution.\n"
     ]
    }
   ],
   "source": [
    "if status == pywraplp.Solver.OPTIMAL:\n",
    "    print('Objective value =', solver.Objective().Value())\n",
    "    for j in range(data['num_vars']):\n",
    "        print(x[j].name(), ' = ', x[j].solution_value())\n",
    "    print()\n",
    "    print('Problem solved in %f milliseconds' % solver.wall_time())\n",
    "    print('Problem solved in %d iterations' % solver.iterations())\n",
    "    print('Problem solved in %d branch-and-bound nodes' % solver.nodes())\n",
    "else:\n",
    "    print('The problem does not have an optimal solution.')"
   ]
  },
  {
   "cell_type": "code",
   "execution_count": 19,
   "metadata": {},
   "outputs": [
    {
     "name": "stdout",
     "output_type": "stream",
     "text": [
      "Objective value = 0.0\n",
      "x[0]  =  0.0\n",
      "x[1]  =  0.0\n",
      "x[2]  =  0.0\n",
      "x[3]  =  0.0\n",
      "x[4]  =  0.0\n",
      "x[5]  =  0.0\n",
      "x[6]  =  0.0\n",
      "x[7]  =  0.0\n",
      "x[8]  =  0.0\n",
      "x[9]  =  0.0\n",
      "x[10]  =  0.0\n",
      "\n",
      "Problem solved in 1276.000000 milliseconds\n",
      "Problem solved in 0 iterations\n",
      "Problem solved in 0 branch-and-bound nodes\n"
     ]
    }
   ],
   "source": [
    "print('Objective value =', solver.Objective().Value())\n",
    "for j in range(data['num_vars']):\n",
    "    print(x[j].name(), ' = ', x[j].solution_value())\n",
    "print()\n",
    "print('Problem solved in %f milliseconds' % solver.wall_time())\n",
    "print('Problem solved in %d iterations' % solver.iterations())\n",
    "print('Problem solved in %d branch-and-bound nodes' % solver.nodes())"
   ]
  },
  {
   "cell_type": "markdown",
   "metadata": {},
   "source": [
    "print('Objective value = ' , solver.Objective().Value())\n",
    "for j in range (data['num_vars']):\n",
    "    print(x[j].name(), '=' ,x[j].solution_value())\n",
    "print()\n",
    "print('Problem solved in %f milliseconds' % solver.wall_time())\n",
    "print('Problem solved in %d iterations' % solver.iterations())\n",
    "print('Problem solved in %d branch-and-bound nodes' % solver.nodes())"
   ]
  },
  {
   "cell_type": "code",
   "execution_count": 20,
   "metadata": {
    "scrolled": false
   },
   "outputs": [],
   "source": [
    "#The values of x[i] represents the order of initialization of nodes in the given BIP. "
   ]
  },
  {
   "cell_type": "code",
   "execution_count": null,
   "metadata": {},
   "outputs": [],
   "source": []
  },
  {
   "cell_type": "code",
   "execution_count": null,
   "metadata": {},
   "outputs": [],
   "source": []
  }
 ],
 "metadata": {
  "kernelspec": {
   "display_name": "Python 3",
   "language": "python",
   "name": "python3"
  },
  "language_info": {
   "codemirror_mode": {
    "name": "ipython",
    "version": 3
   },
   "file_extension": ".py",
   "mimetype": "text/x-python",
   "name": "python",
   "nbconvert_exporter": "python",
   "pygments_lexer": "ipython3",
   "version": "3.7.3"
  }
 },
 "nbformat": 4,
 "nbformat_minor": 2
}
